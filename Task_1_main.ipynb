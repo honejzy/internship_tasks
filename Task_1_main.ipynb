{
 "cells": [
  {
   "cell_type": "markdown",
   "metadata": {},
   "source": [
    "<h2>Задание 1\n",
    "<h4>Описание задачи</h4>\n",
    "Найти непрерывный подмассив в массиве, содержащий хотя бы одно число,\n",
    "который имеет наибольшую сумму."
   ]
  },
  {
   "cell_type": "code",
   "execution_count": 6,
   "metadata": {},
   "outputs": [],
   "source": [
    "# Нахождение длины входного массива\n",
    "# ===================================\n",
    "# A - массив\n",
    "def findLength(A):\n",
    "    count = 0\n",
    "    for i in A: \n",
    "        count+= 1\n",
    "    return count\n",
    "\n",
    "# Функция поиска. Основная мысль: рассматриваем непрерывные массивы от начального индекса до индекса длины массива\n",
    "# Если сумма эл-тов больше, чем bestValue - запоминаем новый массив и его сумму.\n",
    "# ===================================\n",
    "# index - начальный индекс (старт)\n",
    "# A - массив\n",
    "# length - длина массива\n",
    "# tempIdx - индекс следующего элемента массива\n",
    "# bestValue - сумма элементов лучшего массива\n",
    "# bestArr - лучший массив\n",
    "# sumArr - сумма элементов предыдущей итерации\n",
    "def recursionSearch(index, A, length, tempIdx, bestValue, bestArr, sumArr):\n",
    "    if (tempIdx == length):\n",
    "        return bestValue, bestArr\n",
    "    else:\n",
    "        if (sumArr + A[tempIdx] > bestValue):\n",
    "            bestValue = sumArr + A[tempIdx]\n",
    "            bestArr = A[index:tempIdx + 1]\n",
    "            sumArr += A[tempIdx]\n",
    "            tempIdx += 1\n",
    "            return recursionSearch(index, A, length, tempIdx, bestValue, bestArr, sumArr)\n",
    "        else:\n",
    "            sumArr += A[tempIdx]\n",
    "            return recursionSearch(index, A, length, tempIdx + 1, bestValue, bestArr, sumArr)\n",
    "\n",
    "# Основная функция запуска. пробегаемся по каждому элементу массива и рассматриваем подмассивы с текующего индекса и далее.\n",
    "# ===================================\n",
    "# sumArr - наибольшая сумма\n",
    "# arr - непрерывный подмассив в массиве, который имеет наибольшую сумму\n",
    "def findMaxSubArray(A):\n",
    "    length = findLength(A)\n",
    "    sumArr = A[0]\n",
    "    arr = [A[0]]\n",
    "    for i in range(length):\n",
    "        (sumArr, arr) = recursionSearch(i, A, length, i + 1, A[i], [A[i]], A[i]) if recursionSearch(i, A, length, i + 1, A[i], [A[i]], A[i])[0] > sumArr else (sumArr, arr)\n",
    "    return sumArr, arr"
   ]
  },
  {
   "cell_type": "code",
   "execution_count": 11,
   "metadata": {
    "scrolled": true
   },
   "outputs": [
    {
     "name": "stdout",
     "output_type": "stream",
     "text": [
      "(6, [4, -1, 2, 1])\n",
      "(91, [91])\n"
     ]
    }
   ],
   "source": [
    "def main():\n",
    "    print(findMaxSubArray([-2, 1, -3, 4, -1, 2, 1, -5, 4]))\n",
    "    print(findMaxSubArray([-90, -5, 91]))\n",
    "\n",
    "if __name__ == \"__main__\":\n",
    "    main()"
   ]
  },
  {
   "cell_type": "code",
   "execution_count": null,
   "metadata": {},
   "outputs": [],
   "source": []
  }
 ],
 "metadata": {
  "kernelspec": {
   "display_name": "Python 3",
   "language": "python",
   "name": "python3"
  },
  "language_info": {
   "codemirror_mode": {
    "name": "ipython",
    "version": 3
   },
   "file_extension": ".py",
   "mimetype": "text/x-python",
   "name": "python",
   "nbconvert_exporter": "python",
   "pygments_lexer": "ipython3",
   "version": "3.7.0"
  }
 },
 "nbformat": 4,
 "nbformat_minor": 2
}
